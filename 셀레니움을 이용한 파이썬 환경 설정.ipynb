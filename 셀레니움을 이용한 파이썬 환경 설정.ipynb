{
 "cells": [
  {
   "cell_type": "markdown",
   "metadata": {},
   "source": [
    "# 셀레니움 환경 설정"
   ]
  },
  {
   "cell_type": "code",
   "execution_count": 2,
   "metadata": {
    "scrolled": true
   },
   "outputs": [
    {
     "name": "stdout",
     "output_type": "stream",
     "text": [
      "Requirement already satisfied: webdriver_manager in c:\\users\\korea\\anaconda3\\lib\\site-packages (3.5.4)\n",
      "Requirement already satisfied: requests in c:\\users\\korea\\anaconda3\\lib\\site-packages (from webdriver_manager) (2.28.1)\n",
      "Requirement already satisfied: urllib3<1.27,>=1.21.1 in c:\\users\\korea\\anaconda3\\lib\\site-packages (from requests->webdriver_manager) (1.26.11)\n",
      "Requirement already satisfied: idna<4,>=2.5 in c:\\users\\korea\\anaconda3\\lib\\site-packages (from requests->webdriver_manager) (3.3)\n",
      "Requirement already satisfied: charset-normalizer<3,>=2 in c:\\users\\korea\\anaconda3\\lib\\site-packages (from requests->webdriver_manager) (2.0.4)\n",
      "Requirement already satisfied: certifi>=2017.4.17 in c:\\users\\korea\\anaconda3\\lib\\site-packages (from requests->webdriver_manager) (2022.9.14)\n"
     ]
    }
   ],
   "source": [
    "!pip install webdriver_manager"
   ]
  },
  {
   "cell_type": "code",
   "execution_count": 9,
   "metadata": {},
   "outputs": [
    {
     "name": "stdout",
     "output_type": "stream",
     "text": [
      "Collecting webdriver-auto-update\n",
      "  Downloading webdriver_auto_update-0.1.0-py3-none-any.whl (4.0 kB)\n",
      "Requirement already satisfied: requests in c:\\users\\korea\\anaconda3\\lib\\site-packages (from webdriver-auto-update) (2.28.1)\n",
      "Collecting wget\n",
      "  Using cached wget-3.2.zip (10 kB)\n",
      "  Preparing metadata (setup.py): started\n",
      "  Preparing metadata (setup.py): finished with status 'done'\n",
      "Requirement already satisfied: idna<4,>=2.5 in c:\\users\\korea\\anaconda3\\lib\\site-packages (from requests->webdriver-auto-update) (3.3)\n",
      "Requirement already satisfied: charset-normalizer<3,>=2 in c:\\users\\korea\\anaconda3\\lib\\site-packages (from requests->webdriver-auto-update) (2.0.4)\n",
      "Requirement already satisfied: certifi>=2017.4.17 in c:\\users\\korea\\anaconda3\\lib\\site-packages (from requests->webdriver-auto-update) (2022.9.14)\n",
      "Requirement already satisfied: urllib3<1.27,>=1.21.1 in c:\\users\\korea\\anaconda3\\lib\\site-packages (from requests->webdriver-auto-update) (1.26.11)\n",
      "Building wheels for collected packages: wget\n",
      "  Building wheel for wget (setup.py): started\n",
      "  Building wheel for wget (setup.py): finished with status 'done'\n",
      "  Created wheel for wget: filename=wget-3.2-py3-none-any.whl size=9657 sha256=cb95e8e61aa2aff775a683efe66dadd55a43026ea936d45774a5911a9ad10bd5\n",
      "  Stored in directory: c:\\users\\korea\\appdata\\local\\pip\\cache\\wheels\\04\\5f\\3e\\46cc37c5d698415694d83f607f833f83f0149e49b3af9d0f38\n",
      "Successfully built wget\n",
      "Installing collected packages: wget, webdriver-auto-update\n",
      "Successfully installed webdriver-auto-update-0.1.0 wget-3.2\n"
     ]
    }
   ],
   "source": [
    "!pip install webdriver-auto-update"
   ]
  },
  {
   "cell_type": "code",
   "execution_count": 3,
   "metadata": {},
   "outputs": [
    {
     "name": "stderr",
     "output_type": "stream",
     "text": [
      "\n",
      "\n",
      "====== WebDriver manager ======\n",
      "Current google-chrome version is 109.0.5414\n",
      "Get LATEST chromedriver version for 109.0.5414 google-chrome\n",
      "Driver [C:\\Users\\korea\\.wdm\\drivers\\chromedriver\\win32\\109.0.5414.74\\chromedriver.exe] found in cache\n"
     ]
    }
   ],
   "source": [
    "from selenium import webdriver\n",
    "from selenium.webdriver.chrome.service import Service\n",
    "from selenium.webdriver.chrome.options import Options\n",
    "\n",
    "# 크롬 드라이버 자동 업데이트\n",
    "from webdriver_manager.chrome import ChromeDriverManager\n",
    "\n",
    "service = Service(executable_path=ChromeDriverManager().install())"
   ]
  },
  {
   "cell_type": "code",
   "execution_count": 4,
   "metadata": {},
   "outputs": [],
   "source": [
    "# 모듈 추가 셀레니움, 드라이버 추가한다.\n",
    "from selenium import webdriver\n",
    "from webdriver_auto_update import check_driver # 크롬 드라이버 자동 다운로드 \n",
    "from selenium.webdriver.common.by import By # 쿼리 셀렉터를 사용하기 위함."
   ]
  },
  {
   "cell_type": "code",
   "execution_count": 5,
   "metadata": {
    "scrolled": true
   },
   "outputs": [
    {
     "name": "stdout",
     "output_type": "stream",
     "text": [
      "Local chromedriver version: 109.0.5414.74\n",
      "Latest online chromedriver version: 109.0.5414.74\n"
     ]
    },
    {
     "data": {
      "text/plain": [
       "True"
      ]
     },
     "execution_count": 5,
     "metadata": {},
     "output_type": "execute_result"
    }
   ],
   "source": [
    "check_driver(\"./\") # 폴더 경로 체크"
   ]
  },
  {
   "cell_type": "code",
   "execution_count": 6,
   "metadata": {},
   "outputs": [
    {
     "name": "stderr",
     "output_type": "stream",
     "text": [
      "C:\\Users\\Public\\Documents\\ESTsoft\\CreatorTemp\\ipykernel_28324\\2362543321.py:3: DeprecationWarning: executable_path has been deprecated, please pass in a Service object\n",
      "  driver = webdriver.Chrome(\"chromedriver.exe\",options=options)\n"
     ]
    }
   ],
   "source": [
    "options = webdriver.ChromeOptions()\n",
    "options.add_argument(\"headless\") # headless -> 백 그라운드로 실행이 가능하다.\n",
    "driver = webdriver.Chrome(\"chromedriver.exe\",options=options)"
   ]
  },
  {
   "cell_type": "code",
   "execution_count": 7,
   "metadata": {},
   "outputs": [],
   "source": [
    "#import requests\n",
    "#driver = requests.Session()\n",
    "url = \"https://movie.naver.com/movie/bi/mi/pointWriteFormList.naver?code=74977&type=after&isActualPointWriteExecute=false&isMileageSubscriptionAlready=false&isMileageSubscriptionReject=false&page=1\"\n",
    "driver.get(url)"
   ]
  },
  {
   "cell_type": "code",
   "execution_count": 8,
   "metadata": {},
   "outputs": [
    {
     "name": "stdout",
     "output_type": "stream",
     "text": [
      "관람객 CG에 돈 많이 썼다는건 개구라임. 다만 직접 판도라가서 수중촬영하긴 빡쎘을거 같음. 나비족 섭외에도 돈 많이 썼겠드만...\n",
      "archijun(arch****) 2022.12.15 17:14\n",
      "신고\n",
      "관람객 말이안되네 ㅋㅋㅋ 어케만든겨\n",
      "은덕(dmse****) 2022.12.14 11:33\n",
      "신고\n",
      "관람객 제일궁금했던건 2009년도에도 대단했던 CG기술이 2022년도에 얼마나 대단해졌을까..?13년의 기다림이 아깝지 않았습니다.\n",
      "hwle**** 2022.12.14 10:51\n",
      "신고\n",
      "관람객 미래에도 영화관이 있어야 되는 이유를 보여준 영화.\n",
      "버츠비이이이(ydg3****) 2022.12.14 13:23\n",
      "신고\n",
      "관람객 믿고보는 아바타 아쿠아리움에 있는줄..3시간이 어떻게 간건지 모르겠어요\n",
      "nice**** 2022.12.14 13:08\n",
      "신고\n",
      "관람객 진짜 올해 최고의 영화네 제임스 카메론 그는 도대체... 첫회차는 그냥 2D로 봤는데 영상미가 뛰어나서 3D로 볼만하겠다.. 3시간이 짧게 느껴진다... 무조건 극장에서 봐야하고 큰 화면에서 봐야한다\n",
      "Abc123(fowe****) 2022.12.14 09:30\n",
      "신고\n",
      "관람객 찢었다3탄 기다릴고여\n",
      "쏘다(yawo****) 2022.12.14 12:47\n",
      "신고\n",
      "관람객 카메룬 영감…사랑해…\n",
      "후루루까꿍(craz****) 2022.12.14 13:38\n",
      "신고\n",
      "관람객 영상미 하나로 10점 아맥 3d로 보세요 꼭 이토록 눈이 즐거운 영화는 얼마만인가....\n",
      "BSH(hb44****) 2022.12.14 12:35\n",
      "신고\n",
      "관람객 이영화 미쳤다! 13년 기다린 보람이 있습니다!\n",
      "oracle(ljsk****) 2022.12.14 13:56\n",
      "신고\n"
     ]
    }
   ],
   "source": [
    "comments = driver.find_elements(By.CSS_SELECTOR, \"div.score_reple\")\n",
    "\n",
    "for i in comments:\n",
    "    print(i.text.strip())"
   ]
  },
  {
   "cell_type": "code",
   "execution_count": 9,
   "metadata": {},
   "outputs": [
    {
     "data": {
      "text/plain": [
       "['관람객 CG에 돈 많이 썼다는건 개구라임. 다만 직접 판도라가서 수중촬영하긴 빡쎘을거 같음. 나비족 섭외에도 돈 많이 썼겠드만...\\narchijun(arch****) 2022.12.15 17:14\\n신고',\n",
       " '관람객 말이안되네 ㅋㅋㅋ 어케만든겨\\n은덕(dmse****) 2022.12.14 11:33\\n신고',\n",
       " '관람객 제일궁금했던건 2009년도에도 대단했던 CG기술이 2022년도에 얼마나 대단해졌을까..?13년의 기다림이 아깝지 않았습니다.\\nhwle**** 2022.12.14 10:51\\n신고',\n",
       " '관람객 미래에도 영화관이 있어야 되는 이유를 보여준 영화.\\n버츠비이이이(ydg3****) 2022.12.14 13:23\\n신고',\n",
       " '관람객 믿고보는 아바타 아쿠아리움에 있는줄..3시간이 어떻게 간건지 모르겠어요\\nnice**** 2022.12.14 13:08\\n신고',\n",
       " '관람객 진짜 올해 최고의 영화네 제임스 카메론 그는 도대체... 첫회차는 그냥 2D로 봤는데 영상미가 뛰어나서 3D로 볼만하겠다.. 3시간이 짧게 느껴진다... 무조건 극장에서 봐야하고 큰 화면에서 봐야한다\\nAbc123(fowe****) 2022.12.14 09:30\\n신고',\n",
       " '관람객 찢었다3탄 기다릴고여\\n쏘다(yawo****) 2022.12.14 12:47\\n신고',\n",
       " '관람객 카메룬 영감…사랑해…\\n후루루까꿍(craz****) 2022.12.14 13:38\\n신고',\n",
       " '관람객 영상미 하나로 10점 아맥 3d로 보세요 꼭 이토록 눈이 즐거운 영화는 얼마만인가....\\nBSH(hb44****) 2022.12.14 12:35\\n신고',\n",
       " '관람객 이영화 미쳤다! 13년 기다린 보람이 있습니다!\\noracle(ljsk****) 2022.12.14 13:56\\n신고',\n",
       " '관람객 2만원에 외계 행성 여행이면 저렴하네요\\n아디오스(adio****) 2022.12.18 09:52\\n신고',\n",
       " '관람객 평점 개판났네..최소 9.5점짜리입니다\\n황태(taey****) 2022.12.14 12:11\\n신고',\n",
       " '관람객 영화본다고 생각하지말고 외계 아쿠아리움 구경한다고 생각하고 보세요\\nappl**** 2022.12.15 11:41\\n신고',\n",
       " '관람객 영상미 하나만으로도 충분히 볼 가치가있다\\n노정환(riti****) 2022.12.14 13:07\\n신고',\n",
       " '관람객 왜 자꾸 cg가 대단하다고 뻥치는지 모르겠다이건 그냥 판도라 행성 가서 찍은거잖아\\n유나(una5****) 2022.12.18 16:09\\n신고',\n",
       " '관람객 스토리가 새로운 영화는 아닙니다. 하지만 아바타 세계관에 집중할 수 있도록 스토리를 만들었으며 보여지는 장면 하나하나가 너무 알차고 경이롭습니다. 새로운 재미보다 아바타 세상에 체험한다는 시점으로 영화를 관람하면...\\n민투칸(gosi****) 2022.12.14 19:46\\n신고',\n",
       " '관람객 CG미쳤다 바다 물멍 잘하고 갑니다\\n올드보이(makz****) 2022.12.14 14:12\\n신고',\n",
       " '관람객 자식들은 말 안듣고, 툴쿤이 제일 말 잘 듣네\\n놀면서 쇼핑(norm****) 2022.12.17 11:19\\n신고',\n",
       " '관람객 3D 안경 착용하고 3시간 길이의 영화를 보는 건 버겁지만 바닷 속 시각적인 디테일과 환경 보존에 대한 메세지를 잘 전달한 영화.\\nghks**** 2022.12.14 13:43\\n신고',\n",
       " '관람객 영화관의 존재 이유를 상기시키는 영화. 영화가 관객에게 주는 가치와 즐거움이 다양할텐데, 아바타2는 영화관에서 즐길 수 있는 영화적 체험 측면에서 역대 최고라고 할 수 있음\\ncosmos(econ****) 2022.12.14 14:21\\n신고']"
      ]
     },
     "execution_count": 9,
     "metadata": {},
     "output_type": "execute_result"
    }
   ],
   "source": [
    "answer = []\n",
    "\n",
    "for i in range(1,3):\n",
    "    urls = \"https://movie.naver.com/movie/bi/mi/pointWriteFormList.naver?code=74977&type=after&isActualPointWriteExecute=false&isMileageSubscriptionAlready=false&isMileageSubscriptionReject=false&page=\" + str(i)\n",
    "    driver.get(urls)\n",
    "    comments = driver.find_elements(By.CSS_SELECTOR, \"div.score_reple\")\n",
    "    \n",
    "    if (len(comments) == 0):\n",
    "        break\n",
    "    for j in comments:\n",
    "        answer.append(j.text.strip())\n",
    "\n",
    "driver.close()\n",
    "answer"
   ]
  },
  {
   "cell_type": "code",
   "execution_count": 10,
   "metadata": {},
   "outputs": [],
   "source": [
    "f = open(\"./아바타.txt\",\"w\", encoding=\"utf-8\")\n",
    "f_csv = open(\"./아바타.csv\",\"w\",encoding=\"utf-8\")"
   ]
  },
  {
   "cell_type": "code",
   "execution_count": 11,
   "metadata": {},
   "outputs": [],
   "source": [
    "for i in range(0,len(answer) - 1):\n",
    "    f.write(answer[i] + \"\\n\")\n",
    "for i in range(0,len(answer) - 1):\n",
    "    f_csv.write(answer[i] + \"\\n\")\n",
    "f.close()\n",
    "f_csv.close()"
   ]
  },
  {
   "cell_type": "code",
   "execution_count": 13,
   "metadata": {},
   "outputs": [],
   "source": [
    "from konlpy.tag import Twitter # 한글 분석을 위함\n",
    "from collections import Counter"
   ]
  },
  {
   "cell_type": "code",
   "execution_count": 14,
   "metadata": {},
   "outputs": [],
   "source": [
    "def get_tags(text, ntags):\n",
    "    okt = Twitter()\n",
    "    nouns = okt.nouns(text) # 명사로 분리한다.\n",
    "    fil_list = []\n",
    "    return_list = []\n",
    "\n",
    "    for i in range(0,len(nouns) - 1):\n",
    "        if (nouns[i] == \"내공\" or \\\n",
    "            nouns[i] == \"음식\" or \\\n",
    "                nouns[i] == \"건강\" or \\\n",
    "                    nouns[i] == \"추천\" or \\\n",
    "                        nouns[i] == \"궁금\" or \\\n",
    "                            nouns[i] == \"질문\" or \\\n",
    "                                nouns[i] == \"식품\" or \\\n",
    "                                    nouns[i] == \"어디\" or \\\n",
    "                                        nouns[i] == \"언제\" or \\\n",
    "                                            nouns[i] == \"무엇\" or \\\n",
    "                                                nouns[i] == \"드려요\" or \\\n",
    "                                                    nouns[i] == \"법\" or \\\n",
    "                                                        nouns[i] == \"좀\" or \\\n",
    "                                                            nouns[i] == \"뭐\" or \\\n",
    "                                                                nouns[i] == \"때\" or \\\n",
    "                                                                    nouns[i] == \"방법\" or \\\n",
    "                                                                        nouns[i] == \"이유\" or \\\n",
    "                                                                            nouns[i] == \"저녁\" or \\\n",
    "                                                                                nouns[i] == \"대해\" or \\\n",
    "                                                                                    nouns[i] == \"거\" or \\\n",
    "                                                                                        nouns[i] == \"분\" or \\\n",
    "                                                                                    nouns[i] == \"요\"):\n",
    "                                                                                        pass\n",
    "        else:\n",
    "            fil_list.append(nouns[i])\n",
    "    count = Counter(fil_list)\n",
    "\n",
    "    for n, c in count.most_common(ntags):\n",
    "        temp = {'tag': n, 'count': c}\n",
    "        return_list.append(temp)\n",
    "\n",
    "    return return_list"
   ]
  },
  {
   "cell_type": "code",
   "execution_count": 15,
   "metadata": {},
   "outputs": [
    {
     "name": "stderr",
     "output_type": "stream",
     "text": [
      "C:\\Users\\korea\\anaconda3\\lib\\site-packages\\konlpy\\tag\\_okt.py:17: UserWarning: \"Twitter\" has changed to \"Okt\" since KoNLPy v0.4.5.\n",
      "  warn('\"Twitter\" has changed to \"Okt\" since KoNLPy v0.4.5.')\n"
     ]
    },
    {
     "data": {
      "text/plain": [
       "[{'tag': '관람객', 'count': 19},\n",
       " {'tag': '신고', 'count': 18},\n",
       " {'tag': '영화', 'count': 8},\n",
       " {'tag': '말', 'count': 3},\n",
       " {'tag': '아바타', 'count': 3},\n",
       " {'tag': '로', 'count': 3},\n",
       " {'tag': '하나', 'count': 3},\n",
       " {'tag': '돈', 'count': 2},\n",
       " {'tag': '판도라', 'count': 2},\n",
       " {'tag': '제일', 'count': 2},\n",
       " {'tag': '아쿠아리움', 'count': 2},\n",
       " {'tag': '그냥', 'count': 2},\n",
       " {'tag': '볼', 'count': 2},\n",
       " {'tag': '상미', 'count': 2},\n",
       " {'tag': '점', 'count': 2},\n",
       " {'tag': '외계', 'count': 2},\n",
       " {'tag': '행성', 'count': 2},\n",
       " {'tag': '생각', 'count': 2},\n",
       " {'tag': '스토리', 'count': 2},\n",
       " {'tag': '개구', 'count': 1},\n",
       " {'tag': '라임', 'count': 1},\n",
       " {'tag': '다만', 'count': 1},\n",
       " {'tag': '직접', 'count': 1},\n",
       " {'tag': '수중', 'count': 1},\n",
       " {'tag': '촬영', 'count': 1},\n",
       " {'tag': '빡', 'count': 1},\n",
       " {'tag': '나비', 'count': 1},\n",
       " {'tag': '족', 'count': 1},\n",
       " {'tag': '섭외', 'count': 1},\n",
       " {'tag': '썼겠드', 'count': 1},\n",
       " {'tag': '어케', 'count': 1},\n",
       " {'tag': '겨', 'count': 1},\n",
       " {'tag': '은덕', 'count': 1},\n",
       " {'tag': '기술', 'count': 1},\n",
       " {'tag': '얼마나', 'count': 1},\n",
       " {'tag': '기다림', 'count': 1},\n",
       " {'tag': '미래', 'count': 1},\n",
       " {'tag': '영화관', 'count': 1},\n",
       " {'tag': '버', 'count': 1},\n",
       " {'tag': '츠비', 'count': 1},\n",
       " {'tag': '이이이', 'count': 1},\n",
       " {'tag': '간', 'count': 1},\n",
       " {'tag': '진짜', 'count': 1},\n",
       " {'tag': '올해', 'count': 1},\n",
       " {'tag': '최고', 'count': 1},\n",
       " {'tag': '제임스', 'count': 1},\n",
       " {'tag': '카메론', 'count': 1},\n",
       " {'tag': '그', 'count': 1},\n",
       " {'tag': '도대체', 'count': 1},\n",
       " {'tag': '회', 'count': 1},\n",
       " {'tag': '영상', 'count': 1},\n",
       " {'tag': '미가', 'count': 1},\n",
       " {'tag': '무조건', 'count': 1},\n",
       " {'tag': '극장', 'count': 1},\n",
       " {'tag': '화면', 'count': 1},\n",
       " {'tag': '카메룬', 'count': 1},\n",
       " {'tag': '영감', 'count': 1},\n",
       " {'tag': '사랑', 'count': 1},\n",
       " {'tag': '후루루', 'count': 1},\n",
       " {'tag': '하나로', 'count': 1},\n",
       " {'tag': '맥', 'count': 1},\n",
       " {'tag': '꼭', 'count': 1},\n",
       " {'tag': '이', 'count': 1},\n",
       " {'tag': '눈', 'count': 1},\n",
       " {'tag': '얼마', 'count': 1},\n",
       " {'tag': '이영화', 'count': 1},\n",
       " {'tag': '보람', 'count': 1},\n",
       " {'tag': '여행', 'count': 1},\n",
       " {'tag': '이면', 'count': 1},\n",
       " {'tag': '아디오스', 'count': 1},\n",
       " {'tag': '평점', 'count': 1},\n",
       " {'tag': '개판', 'count': 1},\n",
       " {'tag': '최소', 'count': 1},\n",
       " {'tag': '황태', 'count': 1},\n",
       " {'tag': '구경', 'count': 1},\n",
       " {'tag': '고', 'count': 1},\n",
       " {'tag': '가치', 'count': 1},\n",
       " {'tag': '노정', 'count': 1},\n",
       " {'tag': '환', 'count': 1},\n",
       " {'tag': '왜', 'count': 1},\n",
       " {'tag': '자꾸', 'count': 1},\n",
       " {'tag': '뻥', 'count': 1},\n",
       " {'tag': '유나', 'count': 1},\n",
       " {'tag': '세계관', 'count': 1},\n",
       " {'tag': '집중', 'count': 1},\n",
       " {'tag': '수', 'count': 1},\n",
       " {'tag': '장면', 'count': 1},\n",
       " {'tag': '경', 'count': 1},\n",
       " {'tag': '재미', 'count': 1},\n",
       " {'tag': '세상', 'count': 1},\n",
       " {'tag': '체험', 'count': 1},\n",
       " {'tag': '시점', 'count': 1},\n",
       " {'tag': '관람', 'count': 1},\n",
       " {'tag': '민투', 'count': 1},\n",
       " {'tag': '칸', 'count': 1},\n",
       " {'tag': '바다', 'count': 1},\n",
       " {'tag': '물멍', 'count': 1},\n",
       " {'tag': '올드보이', 'count': 1},\n",
       " {'tag': '자식', 'count': 1},\n",
       " {'tag': '툴쿤', 'count': 1},\n",
       " {'tag': '쇼핑', 'count': 1},\n",
       " {'tag': '안경', 'count': 1},\n",
       " {'tag': '착용', 'count': 1},\n",
       " {'tag': '길이', 'count': 1},\n",
       " {'tag': '건', 'count': 1},\n",
       " {'tag': '바닷', 'count': 1},\n",
       " {'tag': '속', 'count': 1},\n",
       " {'tag': '시각', 'count': 1},\n",
       " {'tag': '디테', 'count': 1},\n",
       " {'tag': '일과', 'count': 1},\n",
       " {'tag': '환경', 'count': 1},\n",
       " {'tag': '보존', 'count': 1},\n",
       " {'tag': '대한', 'count': 1},\n",
       " {'tag': '메세지', 'count': 1},\n",
       " {'tag': '전달', 'count': 1}]"
      ]
     },
     "execution_count": 15,
     "metadata": {},
     "output_type": "execute_result"
    }
   ],
   "source": [
    "open_text_file = open(\"./아바타.txt\", 'r',-1,\"utf-8\")\n",
    "text = open_text_file.read()\n",
    "tags = get_tags(text, 500)\n",
    "open_text_file.close()\n",
    "open_output_file = open(\"count.txt\", 'w',-1,\"utf-8\")\n",
    "\n",
    "for tag in tags:\n",
    "    noun = tag['tag']\n",
    "    count = tag['count']\n",
    "    open_output_file.write('{} {}\\n'.format(noun, count))\n",
    "open_output_file.close() \n",
    "\n",
    "tags"
   ]
  },
  {
   "cell_type": "code",
   "execution_count": 16,
   "metadata": {},
   "outputs": [],
   "source": [
    "from wordcloud import WordCloud"
   ]
  },
  {
   "cell_type": "code",
   "execution_count": 17,
   "metadata": {},
   "outputs": [],
   "source": [
    "f_for_wordcloud = open(\"./count.txt\", \"r\", encoding=\"utf-8\")\n",
    "\n",
    "news = f_for_wordcloud.read()"
   ]
  },
  {
   "cell_type": "code",
   "execution_count": 18,
   "metadata": {},
   "outputs": [
    {
     "data": {
      "text/plain": [
       "<wordcloud.wordcloud.WordCloud at 0x18004104a90>"
      ]
     },
     "execution_count": 18,
     "metadata": {},
     "output_type": "execute_result"
    }
   ],
   "source": [
    "wc = WordCloud(font_path=\"/Windows/Fonts/H2GTRE.TTF\", background_color=\"white\", \\\n",
    "    width=1000, height= 1000, max_words=100, max_font_size=200)\n",
    "\n",
    "wc.generate(news)\n",
    "wc.to_file(\"test.png\")"
   ]
  },
  {
   "cell_type": "code",
   "execution_count": 19,
   "metadata": {},
   "outputs": [],
   "source": [
    "import matplotlib.pyplot as plt\n",
    "import numpy as np\n",
    "\n",
    "cnt = []\n",
    "result_cnt = []\n",
    "labels = []\n",
    "\n",
    "for i in tags:\n",
    "    cnt.append(i['count'])\n",
    "    labels.append(i[\"tag\"])\n",
    "\n",
    "\n",
    "arr = np.array(cnt[0:10])\n",
    "\n",
    "del labels[len(arr): ]\n"
   ]
  },
  {
   "cell_type": "code",
   "execution_count": 20,
   "metadata": {},
   "outputs": [],
   "source": [
    "#한글 폰트 깨짐 방지...\n",
    "from matplotlib import font_manager, rc\n",
    "font_path = \"C:/Windows/Fonts/NGULIM.TTF\" # 한글 폰트 주소 가져와서\n",
    "font = font_manager.FontProperties(fname=font_path).get_name() # 폰트 설정 해준다.\n",
    "rc('font', family=font) # 적용"
   ]
  },
  {
   "cell_type": "code",
   "execution_count": 21,
   "metadata": {},
   "outputs": [
    {
     "data": {
      "text/plain": [
       "<matplotlib.legend.Legend at 0x180027cbac0>"
      ]
     },
     "execution_count": 21,
     "metadata": {},
     "output_type": "execute_result"
    },
    {
     "data": {
      "image/png": "[encoded data removed]",
      "text/plain": [
       "<Figure size 640x480 with 1 Axes>"
      ]
     },
     "metadata": {},
     "output_type": "display_data"
    }
   ],
   "source": [
    "plt.pie(arr, labels=labels)\n",
    "plt.legend(title=\"TOP 10 : \")"
   ]
  },
  {
   "cell_type": "code",
   "execution_count": 22,
   "metadata": {},
   "outputs": [
    {
     "data": {
      "text/plain": [
       "<BarContainer object of 10 artists>"
      ]
     },
     "execution_count": 22,
     "metadata": {},
     "output_type": "execute_result"
    },
    {
     "data": {
      "image/png": "[encoded data removed]",
      "text/plain": [
       "<Figure size 640x480 with 1 Axes>"
      ]
     },
     "metadata": {},
     "output_type": "display_data"
    }
   ],
   "source": [
    "plt.bar(labels, arr)"
   ]
  },
  {
   "cell_type": "code",
   "execution_count": 23,
   "metadata": {},
   "outputs": [
    {
     "data": {
      "text/plain": [
       "<BarContainer object of 10 artists>"
      ]
     },
     "execution_count": 23,
     "metadata": {},
     "output_type": "execute_result"
    },
    {
     "data": {
      "image/png": "[encoded data removed]",
      "text/plain": [
       "<Figure size 640x480 with 1 Axes>"
      ]
     },
     "metadata": {},
     "output_type": "display_data"
    }
   ],
   "source": [
    "plt.barh(labels, arr)"
   ]
  },
  {
   "cell_type": "code",
   "execution_count": null,
   "metadata": {},
   "outputs": [],
   "source": []
  },
  {
   "cell_type": "code",
   "execution_count": null,
   "metadata": {},
   "outputs": [],
   "source": []
  },
  {
   "cell_type": "code",
   "execution_count": null,
   "metadata": {},
   "outputs": [],
   "source": []
  }
 ],
 "metadata": {
  "kernelspec": {
   "display_name": "Python 3 (ipykernel)",
   "language": "python",
   "name": "python3"
  },
  "language_info": {
   "codemirror_mode": {
    "name": "ipython",
    "version": 3
   },
   "file_extension": ".py",
   "mimetype": "text/x-python",
   "name": "python",
   "nbconvert_exporter": "python",
   "pygments_lexer": "ipython3",
   "version": "3.9.13"
  },
  "vscode": {
   "interpreter": {
    "hash": "a077222d77dfe082b8f1dd562ad70e458ac2ab76993a0b248ab0476e32e9e8dd"
   }
  }
 },
 "nbformat": 4,
 "nbformat_minor": 2
}
